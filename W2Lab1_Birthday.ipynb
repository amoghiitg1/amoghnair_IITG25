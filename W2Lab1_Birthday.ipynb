{
  "nbformat": 4,
  "nbformat_minor": 0,
  "metadata": {
    "colab": {
      "provenance": [],
      "authorship_tag": "ABX9TyMLes6ZEpIxlhxgfWp3zD55",
      "include_colab_link": true
    },
    "kernelspec": {
      "name": "python3",
      "display_name": "Python 3"
    },
    "language_info": {
      "name": "python"
    }
  },
  "cells": [
    {
      "cell_type": "markdown",
      "metadata": {
        "id": "view-in-github",
        "colab_type": "text"
      },
      "source": [
        "<a href=\"https://colab.research.google.com/github/amoghiitg1/amoghnair_IITG25/blob/main/W2Lab1_Birthday.ipynb\" target=\"_parent\"><img src=\"https://colab.research.google.com/assets/colab-badge.svg\" alt=\"Open In Colab\"/></a>"
      ]
    },
    {
      "cell_type": "code",
      "execution_count": null,
      "metadata": {
        "colab": {
          "base_uri": "https://localhost:8080/"
        },
        "id": "JFgjeS9M7Jsv",
        "outputId": "bef0150b-fd89-4f11-a48a-48abb3807ea9"
      },
      "outputs": [
        {
          "output_type": "stream",
          "name": "stdout",
          "text": [
            "Today's date:  2025-02-01\n"
          ]
        }
      ],
      "source": [
        "from datetime import date\n",
        "today = date.today()\n",
        "print(\"Today's date: \", today)"
      ]
    },
    {
      "cell_type": "code",
      "source": [
        "birth_year = int(input(\"Enter birth year: \"))\n",
        "birth_month = int(input(\"Enter birth month: \"))\n",
        "birth_date = int(input(\"Enter birth date: \"))\n",
        "print(birth_year)\n",
        "print(birth_month)\n",
        "print(birth_date)"
      ],
      "metadata": {
        "colab": {
          "base_uri": "https://localhost:8080/"
        },
        "id": "CCIyRmbhFbty",
        "outputId": "638dbf17-d5ba-494b-9b1f-4a67fb5bb842"
      },
      "execution_count": null,
      "outputs": [
        {
          "output_type": "stream",
          "name": "stdout",
          "text": [
            "Enter birth year: 1990\n",
            "Enter birth month: 12\n",
            "Enter birth date: 24\n",
            "1990\n",
            "12\n",
            "24\n"
          ]
        }
      ]
    },
    {
      "cell_type": "code",
      "source": [
        "birth_day = date(birth_year, birth_month, birth_date)\n",
        "print(birth_day)"
      ],
      "metadata": {
        "colab": {
          "base_uri": "https://localhost:8080/"
        },
        "id": "JQfywXYPGDJT",
        "outputId": "5f8776bf-53bb-4616-9897-9b64ba614da7"
      },
      "execution_count": null,
      "outputs": [
        {
          "output_type": "stream",
          "name": "stdout",
          "text": [
            "1990-12-24\n"
          ]
        }
      ]
    },
    {
      "cell_type": "code",
      "source": [
        "num_days = today - birth_day\n",
        "print(num_days)"
      ],
      "metadata": {
        "colab": {
          "base_uri": "https://localhost:8080/"
        },
        "id": "IUVM7HUgHsww",
        "outputId": "7a84307a-2c58-4cbd-e1f0-4406333b552a"
      },
      "execution_count": null,
      "outputs": [
        {
          "output_type": "stream",
          "name": "stdout",
          "text": [
            "12458 days, 0:00:00\n"
          ]
        }
      ]
    },
    {
      "cell_type": "code",
      "source": [
        "age = num_days.days // 365\n",
        "print(\"Age: \", age)"
      ],
      "metadata": {
        "colab": {
          "base_uri": "https://localhost:8080/"
        },
        "id": "tT2uqDhdLFbD",
        "outputId": "d7a53672-e62b-4c6c-b6ed-17873b553ab6"
      },
      "execution_count": null,
      "outputs": [
        {
          "output_type": "stream",
          "name": "stdout",
          "text": [
            "Age:  34\n"
          ]
        }
      ]
    },
    {
      "cell_type": "code",
      "source": [
        "cur_year = date.today().year\n",
        "cur_bday = date(cur_year, birth_month, birth_date)\n",
        "print(\"Current year birthday: \", cur_bday)"
      ],
      "metadata": {
        "colab": {
          "base_uri": "https://localhost:8080/"
        },
        "id": "deO92v_7LWi9",
        "outputId": "6c2ba5f4-4eff-489f-e0e5-d0de007ebb4b"
      },
      "execution_count": null,
      "outputs": [
        {
          "output_type": "stream",
          "name": "stdout",
          "text": [
            "Current year birthday:  2025-12-24\n"
          ]
        }
      ]
    },
    {
      "cell_type": "code",
      "source": [
        "#days till next birthday\n",
        "remaining_days = (cur_bday - today).days\n",
        "print(\"Days till next birthday: \", remaining_days)"
      ],
      "metadata": {
        "colab": {
          "base_uri": "https://localhost:8080/"
        },
        "id": "RSkjQE-MRBMW",
        "outputId": "82c57fb7-a37e-48c9-c971-3ce9c7e8921f"
      },
      "execution_count": null,
      "outputs": [
        {
          "output_type": "stream",
          "name": "stdout",
          "text": [
            "Days till next birthday:  326\n"
          ]
        }
      ]
    },
    {
      "cell_type": "code",
      "source": [
        "# importing the datetime module and finding current date\n",
        "from datetime import date\n",
        "today = date.today()\n",
        "\n",
        "# create and print the original birth date as user input\n",
        "# the date should be in integer format for further manipulations\n",
        "birth_year = int(input(\"Enter birth year: \"))\n",
        "birth_month = int(input(\"Enter birth month: \"))\n",
        "birth_date = int(input(\"Enter birth date: \"))\n",
        "\n",
        "birth_day = date(birth_year, birth_month, birth_date)\n",
        "print(\"Birthday:\", birth_day)\n",
        "\n",
        "# calculate the number of days from the original birth date till current date\n",
        "# use the above days to calculate the age in years\n",
        "num_days = today - birth_day\n",
        "\n",
        "age = num_days.days // 365\n",
        "print(\"Age:\", age, \"years\")\n",
        "\n",
        "# use the date function to find the current year\n",
        "# use this to determine the current year birth date\n",
        "cur_year = date.today().year\n",
        "cur_bday = date(cur_year, birth_month, birth_date)\n",
        "print(\"Current year birthday:\", cur_bday)\n",
        "\n",
        "#days till next birthday\n",
        "remaining_days = (cur_bday - today).days\n",
        "print(\"Days till next birthday:\", remaining_days, \"days\")"
      ],
      "metadata": {
        "colab": {
          "base_uri": "https://localhost:8080/"
        },
        "id": "MR6XV6RLSCg1",
        "outputId": "15cf5d02-65a0-4687-87d0-0a6cc7515cca"
      },
      "execution_count": null,
      "outputs": [
        {
          "output_type": "stream",
          "name": "stdout",
          "text": [
            "Enter birth year: 1998\n",
            "Enter birth month: 08\n",
            "Enter birth date: 18\n",
            "Birthday: 1998-08-18\n",
            "Age: 26 years\n",
            "Current year birthday: 2025-08-18\n",
            "Days till next birthday: 198 days\n"
          ]
        }
      ]
    },
    {
      "cell_type": "code",
      "source": [],
      "metadata": {
        "id": "YLb3d26_TOoh"
      },
      "execution_count": null,
      "outputs": []
    }
  ]
}